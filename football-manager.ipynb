{
  "cells": [
    {
      "cell_type": "markdown",
      "metadata": {
        "id": "view-in-github",
        "colab_type": "text"
      },
      "source": [
        "<a href=\"https://colab.research.google.com/github/kangwonlee/football-manager-pandas/blob/main/football-manager.ipynb\" target=\"_parent\"><img src=\"https://colab.research.google.com/assets/colab-badge.svg\" alt=\"Open In Colab\"/></a>"
      ]
    },
    {
      "cell_type": "markdown",
      "metadata": {
        "id": "nQgDvrrVf0Rn"
      },
      "source": [
        "# Python 확장 라이브러리 예\n",
        "* `requests`\n",
        "* `bs4`\n",
        "* `pandas`\n",
        "\n"
      ]
    },
    {
      "cell_type": "code",
      "execution_count": null,
      "metadata": {
        "id": "CS7ziy4Ff0Rn"
      },
      "outputs": [],
      "source": [
        "url = \"https://fminside.net/players\"\n",
        "\n"
      ]
    },
    {
      "cell_type": "markdown",
      "source": [
        "## 선수 목록 (일부)"
      ],
      "metadata": {
        "id": "t1OagVhyrWVJ"
      }
    },
    {
      "cell_type": "code",
      "execution_count": null,
      "metadata": {
        "id": "C8GjU9vif0Ro"
      },
      "outputs": [],
      "source": [
        "import requests\n",
        "\n"
      ]
    },
    {
      "cell_type": "code",
      "execution_count": null,
      "metadata": {
        "id": "bFTburjcf0Ro"
      },
      "outputs": [],
      "source": [
        "r = requests.get(url)\n",
        "r.ok\n",
        "\n"
      ]
    },
    {
      "cell_type": "code",
      "source": [
        "import bs4"
      ],
      "metadata": {
        "id": "qx3wiu27gEU-"
      },
      "execution_count": null,
      "outputs": []
    },
    {
      "cell_type": "code",
      "source": [
        "soup = bs4.BeautifulSoup(r.text)"
      ],
      "metadata": {
        "id": "UKupzN7wgBPg"
      },
      "execution_count": null,
      "outputs": []
    },
    {
      "cell_type": "code",
      "source": [
        "span_list = soup.find_all(\"li\")\n",
        "for tag in span_list:\n",
        "  if \"player\" in tag.get(\"class\", []):\n",
        "    a_list = tag.find_all('a')\n",
        "    for a_tag in a_list:\n",
        "      print(a_tag)\n",
        "    print('='*40)"
      ],
      "metadata": {
        "id": "OEm8boaSiZKT"
      },
      "execution_count": null,
      "outputs": []
    },
    {
      "cell_type": "markdown",
      "source": [
        "## 선수 능력치 예\n",
        "\n"
      ],
      "metadata": {
        "id": "vHWTKCMOreZ5"
      }
    },
    {
      "cell_type": "code",
      "source": [
        "player_url = \"https://fminside.net/players/3-fm-23/7458500-lionel-messi\"\n",
        "\n"
      ],
      "metadata": {
        "id": "IHC7wGWRqyi-"
      },
      "execution_count": null,
      "outputs": []
    },
    {
      "cell_type": "code",
      "source": [
        "import requests\n",
        "p = requests.get(player_url)\n",
        "p.ok\n",
        "\n"
      ],
      "metadata": {
        "id": "3HP2JqXUq7Tm"
      },
      "execution_count": null,
      "outputs": []
    },
    {
      "cell_type": "code",
      "execution_count": null,
      "metadata": {
        "id": "fg36H8ujf0Rs"
      },
      "outputs": [],
      "source": [
        "import pandas as pd\n",
        "player_table_list = pd.read_html(p.text)\n",
        "\n"
      ]
    },
    {
      "cell_type": "code",
      "source": [
        "pd.concat(player_table_list, axis=1)\n",
        "\n"
      ],
      "metadata": {
        "id": "Wa1MI1m8Mkj3"
      },
      "execution_count": null,
      "outputs": []
    },
    {
      "cell_type": "code",
      "source": [
        "player_table = pd.concat(player_table_list, axis=0)\n",
        "player_table\n",
        "\n"
      ],
      "metadata": {
        "id": "rwfweJ71rEyN"
      },
      "execution_count": null,
      "outputs": []
    },
    {
      "cell_type": "markdown",
      "source": [
        "포지션 정보 추출\n",
        "\n"
      ],
      "metadata": {
        "id": "E0kFyy7xoiZx"
      }
    },
    {
      "cell_type": "code",
      "execution_count": null,
      "metadata": {
        "id": "E2asvsHNj9lx"
      },
      "outputs": [],
      "source": [
        "sample = \"\"\"\n",
        "<div class=\"column\">\n",
        "  <h2>Player info</h2>\n",
        "  <ul>\n",
        "  <li><span class=\"key\">Name</span><span class=\"value\">Lionel Messi</span></li>\n",
        "  <li><span class=\"key\">Age</span><span class=\"value\">35</span></li>\n",
        "  <li><span class=\"key\">Position</span><span class=\"value\"><span class=\"desktop_positions\"><span position=\"amr\"  title=\"Natural\" class=\"position natural\">AMR</span>, <span position=\"amc\"  title=\"Natural\" class=\"position natural\">AMC</span>, <span position=\"st\"  title=\"Natural\" class=\"position natural\">ST</span></span><span class=\"mobile_position\"><span position=\"amr\" title=\"Natural\" class=\"position natural\">AMR</span>, <span position=\"amc\" title=\"Natural\" class=\"position natural\">AMC</span>, <span position=\"st\" title=\"Natural\" class=\"position natural\">ST</span></span></span></li>\n",
        "  <li><span class=\"key\">Foot</span><span class=\"value\">Left</span></li>\n",
        "  <li><span class=\"key\">Length</span><span class=\"value\">169 CM</span></li>\n",
        "  <li><span class=\"key\">Weight</span><span class=\"value\">67 KG</span></li>\n",
        "  <li><span class=\"key\">Caps / Goals</span><span class=\"value\">162 / 86</span></li>\n",
        "  <li><span class=\"key\">Unique ID</span><span class=\"value\">7458500</span></li>\n",
        "  </ul>\n",
        "</div>\n",
        "\"\"\"\n",
        "\n"
      ]
    },
    {
      "cell_type": "code",
      "source": [
        "import bs4\n",
        "\n",
        "\n",
        "def get_player_profile(text):\n",
        "  soup = bs4.BeautifulSoup(text)\n",
        "\n",
        "  result = {}\n",
        "\n",
        "  for list_item in soup.find_all(\"li\"):\n",
        "    key = value = None\n",
        "\n",
        "    items = list_item.find_all(\"span\")\n",
        "\n",
        "    # TODO : improve this part\n",
        "    if \"key\" == items[0].get(\"class\")[0]:\n",
        "      key = items[0].get_text()\n",
        "    if \"value\" == items[1].get(\"class\")[0]:\n",
        "      value = items[1].get_text()\n",
        "\n",
        "    if key and value:\n",
        "      result[key] = value\n",
        "\n",
        "  return result\n",
        "\n"
      ],
      "metadata": {
        "id": "26QuP6CKo-74"
      },
      "execution_count": null,
      "outputs": []
    },
    {
      "cell_type": "code",
      "source": [
        "get_player_profile(sample)\n",
        "\n"
      ],
      "metadata": {
        "id": "pyuwLzQysBPg"
      },
      "execution_count": null,
      "outputs": []
    },
    {
      "cell_type": "code",
      "source": [],
      "metadata": {
        "id": "ebHwtPJqpQsA"
      },
      "execution_count": null,
      "outputs": []
    }
  ],
  "metadata": {
    "colab": {
      "provenance": [],
      "include_colab_link": true
    },
    "kernelspec": {
      "display_name": "Python 3 (ipykernel)",
      "language": "python",
      "name": "python3"
    },
    "language_info": {
      "codemirror_mode": {
        "name": "ipython",
        "version": 3
      },
      "file_extension": ".py",
      "mimetype": "text/x-python",
      "name": "python",
      "nbconvert_exporter": "python",
      "pygments_lexer": "ipython3",
      "version": "3.9.5"
    }
  },
  "nbformat": 4,
  "nbformat_minor": 0
}